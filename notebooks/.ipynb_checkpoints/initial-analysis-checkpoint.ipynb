{
 "cells": [
  {
   "cell_type": "code",
   "execution_count": 1,
   "id": "4faa02cb",
   "metadata": {},
   "outputs": [],
   "source": [
    "import nibabel as nib\n",
    "import ipywidgets as wg\n",
    "%matplotlib inline\n",
    "import matplotlib.pyplot as plt\n",
    "import numpy as np\n",
    "from matplotlib.widgets import Slider, Button"
   ]
  },
  {
   "cell_type": "code",
   "execution_count": 2,
   "id": "60681ab1",
   "metadata": {},
   "outputs": [],
   "source": [
    "in_path = \"/home/igor/Projects/fmri-analysis/data/sub-01/anat/\"\n",
    "path1 = in_path + \"sub-01_inplaneT2.nii\"\n",
    "img1 = nib.load(path1)"
   ]
  },
  {
   "cell_type": "code",
   "execution_count": 3,
   "id": "c60a8d2e",
   "metadata": {},
   "outputs": [
    {
     "data": {
      "application/vnd.jupyter.widget-view+json": {
       "model_id": "c36aac925c59440f9bf2e9cf09c297a7",
       "version_major": 2,
       "version_minor": 0
      },
      "text/plain": [
       "interactive(children=(IntSlider(value=7, description='width', max=24), Output()), _dom_classes=('widget-intera…"
      ]
     },
     "metadata": {},
     "output_type": "display_data"
    }
   ],
   "source": [
    "def f(width):\n",
    "    plt.imshow(img1.get_fdata()[:,:,width])\n",
    "\n",
    "slider = wg.IntSlider(value=7, min=0, max=24)\n",
    "wg.interact(f, width=slider);"
   ]
  },
  {
   "cell_type": "code",
   "execution_count": 4,
   "id": "0b916e6b",
   "metadata": {},
   "outputs": [],
   "source": [
    "path2 = in_path + \"sub-01_T1w.nii/\" + \"highres.nii\"\n",
    "img2 = nib.load(path2)"
   ]
  },
  {
   "cell_type": "code",
   "execution_count": 5,
   "id": "ba03f5b8",
   "metadata": {
    "scrolled": false
   },
   "outputs": [
    {
     "data": {
      "application/vnd.jupyter.widget-view+json": {
       "model_id": "43175d4871844bf1b77b098ec04c87ce",
       "version_major": 2,
       "version_minor": 0
      },
      "text/plain": [
       "interactive(children=(IntSlider(value=7, description='width', max=159), Output()), _dom_classes=('widget-inter…"
      ]
     },
     "metadata": {},
     "output_type": "display_data"
    }
   ],
   "source": [
    "def f2(width):\n",
    "    plt.imshow(img2.get_fdata()[width,:,:])\n",
    "\n",
    "slider2 = wg.IntSlider(value=7, min=0, max=159)\n",
    "wg.interact(f2, width=slider2);"
   ]
  },
  {
   "cell_type": "code",
   "execution_count": null,
   "id": "d8521ea9",
   "metadata": {},
   "outputs": [],
   "source": []
  }
 ],
 "metadata": {
  "kernelspec": {
   "display_name": "Python 3 (ipykernel)",
   "language": "python",
   "name": "python3"
  },
  "language_info": {
   "codemirror_mode": {
    "name": "ipython",
    "version": 3
   },
   "file_extension": ".py",
   "mimetype": "text/x-python",
   "name": "python",
   "nbconvert_exporter": "python",
   "pygments_lexer": "ipython3",
   "version": "3.11.0"
  }
 },
 "nbformat": 4,
 "nbformat_minor": 5
}
