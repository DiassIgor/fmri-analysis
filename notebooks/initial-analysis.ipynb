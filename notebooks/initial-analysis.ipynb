{
 "cells": [
  {
   "cell_type": "code",
   "execution_count": 1,
   "id": "4faa02cb",
   "metadata": {},
   "outputs": [],
   "source": [
    "import nibabel as nib\n",
    "import ipywidgets as wg\n",
    "%matplotlib inline\n",
    "import matplotlib.pyplot as plt\n",
    "import numpy as np\n",
    "\n",
    "import gzip\n",
    "import shutil\n",
    "from pathlib import Path"
   ]
  },
  {
   "cell_type": "markdown",
   "id": "2411cdfe",
   "metadata": {},
   "source": [
    "# Anat folder analysis"
   ]
  },
  {
   "cell_type": "code",
   "execution_count": 3,
   "id": "60681ab1",
   "metadata": {},
   "outputs": [],
   "source": [
    "in_path = \"/home/igor/Projects/fmri-analysis/data/sub-01/anat/\"\n",
    "path1 = in_path + \"sub-01_inplaneT2.nii\"\n",
    "img1 = nib.load(path1)"
   ]
  },
  {
   "cell_type": "code",
   "execution_count": 4,
   "id": "c60a8d2e",
   "metadata": {},
   "outputs": [
    {
     "data": {
      "application/vnd.jupyter.widget-view+json": {
       "model_id": "466c249140bf45f4a6ccd43611dbe7b1",
       "version_major": 2,
       "version_minor": 0
      },
      "text/plain": [
       "interactive(children=(IntSlider(value=7, description='width', max=24), Output()), _dom_classes=('widget-intera…"
      ]
     },
     "metadata": {},
     "output_type": "display_data"
    }
   ],
   "source": [
    "def f(width):\n",
    "    plt.imshow(img1.get_fdata()[:,:,width])\n",
    "\n",
    "slider = wg.IntSlider(value=7, min=0, max=24)\n",
    "wg.interact(f, width=slider);"
   ]
  },
  {
   "cell_type": "code",
   "execution_count": 5,
   "id": "0b916e6b",
   "metadata": {},
   "outputs": [],
   "source": [
    "path2 = in_path + \"sub-01_T1w.nii/\" + \"highres.nii\"\n",
    "img2 = nib.load(path2)"
   ]
  },
  {
   "cell_type": "code",
   "execution_count": 6,
   "id": "ba03f5b8",
   "metadata": {
    "scrolled": false
   },
   "outputs": [
    {
     "data": {
      "application/vnd.jupyter.widget-view+json": {
       "model_id": "9a71dc442c0642c8ab9984ae0219c2b0",
       "version_major": 2,
       "version_minor": 0
      },
      "text/plain": [
       "interactive(children=(IntSlider(value=7, description='width', max=159), Output()), _dom_classes=('widget-inter…"
      ]
     },
     "metadata": {},
     "output_type": "display_data"
    }
   ],
   "source": [
    "def f2(width):\n",
    "    plt.imshow(img2.get_fdata()[width,:,:])\n",
    "\n",
    "slider2 = wg.IntSlider(value=7, min=0, max=159)\n",
    "wg.interact(f2, width=slider2);"
   ]
  },
  {
   "cell_type": "markdown",
   "id": "55abf6ec",
   "metadata": {},
   "source": [
    "# Func folder analysis"
   ]
  },
  {
   "cell_type": "code",
   "execution_count": 2,
   "id": "3d45166b",
   "metadata": {},
   "outputs": [],
   "source": [
    "data_path = Path('/home/igor/Projects/fmri-analysis/data/sub-01')\n",
    "func_path = data_path.joinpath('func')"
   ]
  },
  {
   "cell_type": "code",
   "execution_count": 8,
   "id": "35343a03",
   "metadata": {},
   "outputs": [],
   "source": [
    "for zip_file in list(func_path.glob(\"*.gz\")):\n",
    "    \n",
    "    file_name = zip_file.stem\n",
    "    out_path = zip_file.parent.joinpath(file_name)\n",
    "    \n",
    "    with gzip.open(zip_file, 'rb') as f_in:\n",
    "        with open(out_path, 'wb') as f_out:\n",
    "            shutil.copyfileobj(f_in, f_out)"
   ]
  },
  {
   "cell_type": "code",
   "execution_count": 3,
   "id": "1e1ddb1c",
   "metadata": {},
   "outputs": [
    {
     "name": "stdout",
     "output_type": "stream",
     "text": [
      "sub-01_task-probabilisticclassification_run-01_bold.nii\n"
     ]
    }
   ],
   "source": [
    "path3 = list(func_path.glob(\"*.nii\"))[0]\n",
    "print(path3.name)\n",
    "img3 = nib.load(path3)"
   ]
  },
  {
   "cell_type": "code",
   "execution_count": 10,
   "id": "ecd21bd6",
   "metadata": {},
   "outputs": [
    {
     "data": {
      "application/vnd.jupyter.widget-view+json": {
       "model_id": "f193727effa04a629b8ac295047111ce",
       "version_major": 2,
       "version_minor": 0
      },
      "text/plain": [
       "interactive(children=(IntSlider(value=7, description='time', max=179), Output()), _dom_classes=('widget-intera…"
      ]
     },
     "metadata": {},
     "output_type": "display_data"
    }
   ],
   "source": [
    "def f3(time):\n",
    "    plt.imshow(img3.get_fdata()[:,:,10,time])\n",
    "    plt.show()\n",
    "\n",
    "slider3 = wg.IntSlider(value=7, min=0, max=179)\n",
    "wg.interact(f3, time=slider3);"
   ]
  },
  {
   "cell_type": "code",
   "execution_count": 16,
   "id": "334d7fd5",
   "metadata": {},
   "outputs": [
    {
     "data": {
      "text/plain": [
       "<matplotlib.image.AxesImage at 0x7fcc8f151f10>"
      ]
     },
     "execution_count": 16,
     "metadata": {},
     "output_type": "execute_result"
    },
    {
     "data": {
      "image/png": "[encoded data removed]",
      "text/plain": [
       "<Figure size 640x480 with 1 Axes>"
      ]
     },
     "metadata": {},
     "output_type": "display_data"
    }
   ],
   "source": [
    "plt.imshow(img3.get_fdata()[:,:,10,170])"
   ]
  },
  {
   "cell_type": "code",
   "execution_count": 12,
   "id": "f6504f3f",
   "metadata": {},
   "outputs": [
    {
     "data": {
      "text/plain": [
       "(64, 64, 25, 180)"
      ]
     },
     "execution_count": 12,
     "metadata": {},
     "output_type": "execute_result"
    }
   ],
   "source": [
    "img3.get_fdata().shape"
   ]
  },
  {
   "cell_type": "code",
   "execution_count": 18,
   "id": "ed2ee94e",
   "metadata": {},
   "outputs": [
    {
     "data": {
      "text/plain": [
       "array([452., 441., 445., 444., 442., 434., 447., 443., 437., 435., 438.,\n",
       "       431., 450., 433., 436., 459., 443., 432., 433., 446., 440., 433.,\n",
       "       449., 458., 440., 432., 422., 429., 443., 432., 443., 448., 450.,\n",
       "       431., 436., 435., 428., 451., 459., 445., 446., 446., 433., 439.,\n",
       "       426., 442., 447., 436., 452., 449., 432., 432., 431., 422., 441.,\n",
       "       442., 442., 449., 438., 426., 427., 443., 444., 438., 440., 448.,\n",
       "       458., 420., 454., 450., 439., 441., 437., 442., 444., 442., 432.,\n",
       "       447., 454., 442., 440., 440., 445., 432., 433., 445., 442., 433.,\n",
       "       441., 434., 442., 436., 445., 440., 446., 448., 433., 438., 448.,\n",
       "       429., 450., 452., 442., 423., 457., 431., 429., 435., 441., 449.,\n",
       "       429., 428., 440., 443., 450., 431., 453., 424., 449., 436., 446.,\n",
       "       456., 442., 419., 419., 445., 426., 422., 427., 438., 425., 441.,\n",
       "       440., 435., 441., 435., 454., 430., 432., 439., 435., 420., 440.,\n",
       "       439., 446., 447., 436., 443., 425., 442., 442., 458., 448., 443.,\n",
       "       460., 444., 438., 438., 443., 441., 438., 432., 427., 447., 430.,\n",
       "       431., 446., 415., 427., 442., 444., 448., 439., 454., 461., 432.,\n",
       "       442., 432., 418., 441.])"
      ]
     },
     "execution_count": 18,
     "metadata": {},
     "output_type": "execute_result"
    }
   ],
   "source": [
    "img3.get_fdata()[30,30,10,:]"
   ]
  },
  {
   "cell_type": "code",
   "execution_count": 30,
   "id": "b92953d3",
   "metadata": {},
   "outputs": [
    {
     "data": {
      "text/plain": [
       "(64, 64, 180)"
      ]
     },
     "execution_count": 30,
     "metadata": {},
     "output_type": "execute_result"
    }
   ],
   "source": [
    "img3.get_fdata()[:,:,10,:].shape"
   ]
  },
  {
   "cell_type": "code",
   "execution_count": null,
   "id": "96331cfc",
   "metadata": {},
   "outputs": [],
   "source": []
  }
 ],
 "metadata": {
  "kernelspec": {
   "display_name": "Python 3 (ipykernel)",
   "language": "python",
   "name": "python3"
  },
  "language_info": {
   "codemirror_mode": {
    "name": "ipython",
    "version": 3
   },
   "file_extension": ".py",
   "mimetype": "text/x-python",
   "name": "python",
   "nbconvert_exporter": "python",
   "pygments_lexer": "ipython3",
   "version": "3.11.0"
  }
 },
 "nbformat": 4,
 "nbformat_minor": 5
}
